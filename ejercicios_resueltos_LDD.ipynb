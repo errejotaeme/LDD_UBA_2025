{
 "cells": [
  {
   "cell_type": "markdown",
   "id": "76a07553-1ec0-4fbe-906c-7237d13e7a2d",
   "metadata": {},
   "source": [
    "# **LDD 1C-2025**"
   ]
  },
  {
   "cell_type": "code",
   "execution_count": 1,
   "id": "8e30b2a4-4437-4ed7-a191-4a908e0afc02",
   "metadata": {},
   "outputs": [],
   "source": [
    "import numpy as np"
   ]
  },
  {
   "cell_type": "markdown",
   "id": "113d39d3-b87a-471c-8261-33ed964bb6b0",
   "metadata": {},
   "source": [
    "## **EJERCICIOS DEL PRIMER CUADERNO**"
   ]
  },
  {
   "cell_type": "markdown",
   "id": "766955d9-0dfb-4dff-bc68-4b4cdfcb02d7",
   "metadata": {},
   "source": [
    "### Norma\n",
    "**Ejercicio.** Definir una función que calcule la **norma** (euclideana o **L2**) de un vector. *\\[La \"L\" hace referencia a la teoría de los espacios de Lebesgue]* "
   ]
  },
  {
   "cell_type": "code",
   "execution_count": 2,
   "id": "6b385c73-4cb3-4472-83db-2eb4df56bbfc",
   "metadata": {},
   "outputs": [
    {
     "data": {
      "text/plain": [
       "np.float64(3.74)"
      ]
     },
     "execution_count": 2,
     "metadata": {},
     "output_type": "execute_result"
    }
   ],
   "source": [
    "def normaL2(arr):\n",
    "    return np.round(np.sqrt(np.sum(arr**2)), 2)\n",
    "\n",
    "v = np.array([1,2,3])\n",
    "normaL2(v)"
   ]
  },
  {
   "cell_type": "markdown",
   "id": "e60e5422-1502-4923-afbd-a7a63bb3f5c4",
   "metadata": {},
   "source": [
    "### Azar\n",
    "**Ley de los grandes números.** Esta ley asegura que si tiramos $n$ veces una moneda, el promedio de veces que sale cara tiende a $1/2$ cuando $n$ tiende a infinito.\n",
    "\n",
    "Simular 10 lanzamientos de una moneda y calcular el promedio de veces que sale cara. Repetir para $n = 1000$ y $n = 100.000$.\n",
    "\n",
    "**Ejercicio.** Se tira $n$ veces una moneda. Intentar predecir, si existen, los siguientes límites cuando $n$ tiene a infinito y verificar la intuición mediante simulaciones.\n",
    "\n",
    "1. La cantidad de caras dividido por la cantidad de cecas:   **\\[$\\to 1$ cuando $n \\to \\infty$\\]**\n",
    "2. La cantidad de caras menos la cantidad de cecas:  **\\[$\\to$ una cantidad cada vez más pequeña de lanzamientos, cuando $n \\to \\infty$\\]**\n",
    "3. La cantidad de caras menos la cantidad de cecas, divido por la cantidad total de tiradas: **\\[$\\to 0$ cuando $n \\to \\infty$\\]**\n",
    "4. Considerando las veces que salieron tres caras seguidas, el promedio de veces que en la siguiente tirada sale nuevamente cara. **\\[$\\to 0.5$ cuando $n \\to \\infty$\\]**"
   ]
  },
  {
   "cell_type": "code",
   "execution_count": 3,
   "id": "3f4cc998-cc80-42d0-9cc5-bf3d95180915",
   "metadata": {},
   "outputs": [
    {
     "name": "stdout",
     "output_type": "stream",
     "text": [
      "Caras entre cecas: 1.01\n",
      "Caras - cecas: 514\n",
      "(Caras - cecas) / tiradas: 0.005\n",
      "El 50.35% de las veces que salieron tres caras seguidas, la cuarta tambien fue cara.\n"
     ]
    }
   ],
   "source": [
    "resultados_posibles = np.array (['cara','ceca'])\n",
    "lanzamientos = 100000\n",
    "simulacion = np.random.choice(resultados_posibles, size = lanzamientos)\n",
    "es_cara = np.where(simulacion == 'cara', True, False)\n",
    "\n",
    "#1\n",
    "caras = np.sum(np.where(es_cara == True, 1, 0))\n",
    "cecas = es_cara.size - caras\n",
    "rel_caras_cecas = np.round(caras / cecas,3)\n",
    "print(f'Caras entre cecas: {rel_caras_cecas}')\n",
    "\n",
    "#2 \n",
    "print(f'Caras - cecas: {caras - cecas}')\n",
    "\n",
    "#3\n",
    "print(f'(Caras - cecas) / tiradas: {np.round((caras - cecas) / lanzamientos, 3)}')\n",
    "\n",
    "\n",
    "#4\n",
    "def veces_seguidas(caras):\n",
    "    indices_caras = np.where(caras == True)[0]\n",
    "    indices_tres_seguidas = np.where(\n",
    "        (indices_caras[:-2] - indices_caras[1:-1] == -1) &\n",
    "        (indices_caras[:-2] - indices_caras[2:] == -2)\n",
    "    )[0]\n",
    "\n",
    "    if indices_tres_seguidas.size > 0:\n",
    "        n = 0\n",
    "        i = 1\n",
    "        total3 = 1\n",
    "        total4 = 0\n",
    "        while i < indices_tres_seguidas.size:\n",
    "            if indices_tres_seguidas[i] > n+2:                 \n",
    "                if caras[i + 1] == True:  # Registro que hubo 4 seguidas\n",
    "                    total4 += 1            \n",
    "                total3 += 1 # Registro que hubo 3 seguidas\n",
    "                n = indices_tres_seguidas[i]  # Actualizo la referencia                \n",
    "            i += 1\n",
    "        return total3, total4\n",
    "\n",
    "veces = veces_seguidas(es_cara)\n",
    "tres_seguidas = veces[0]\n",
    "cuatro_seguidas = veces[1]\n",
    "aux = f'El {np.round((cuatro_seguidas / tres_seguidas) * 100, 2)}% de las veces que salieron tres caras seguidas, '\n",
    "aux = aux + 'la cuarta tambien fue cara.'\n",
    "print(aux)"
   ]
  }
 ],
 "metadata": {
  "kernelspec": {
   "display_name": "Python 3 (ipykernel)",
   "language": "python",
   "name": "python3"
  },
  "language_info": {
   "codemirror_mode": {
    "name": "ipython",
    "version": 3
   },
   "file_extension": ".py",
   "mimetype": "text/x-python",
   "name": "python",
   "nbconvert_exporter": "python",
   "pygments_lexer": "ipython3",
   "version": "3.13.2"
  }
 },
 "nbformat": 4,
 "nbformat_minor": 5
}
